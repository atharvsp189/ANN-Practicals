{
 "cells": [
  {
   "cell_type": "code",
   "execution_count": 1,
   "id": "49ce69cf",
   "metadata": {},
   "outputs": [
    {
     "name": "stdout",
     "output_type": "stream",
     "text": [
      "McPitts\n"
     ]
    }
   ],
   "source": [
    "print(\"McPitts\")"
   ]
  },
  {
   "cell_type": "code",
   "execution_count": 2,
   "id": "f15c2983",
   "metadata": {},
   "outputs": [],
   "source": [
    "import matplotlib.pyplot as plt"
   ]
  },
  {
   "cell_type": "code",
   "execution_count": 27,
   "id": "a8302e16",
   "metadata": {},
   "outputs": [],
   "source": [
    "class McPitts_Model:\n",
    "    def __init__(self, weights, threshold):\n",
    "        self.weights = weights\n",
    "        self.threshold = threshold\n",
    "    \n",
    "    def activation(self, inputs):\n",
    "        net_input = sum(w * x for w, x in zip(self.weights, inputs))\n",
    "        return 1 if net_input > self.threshold else 0"
   ]
  },
  {
   "cell_type": "code",
   "execution_count": 30,
   "id": "e3ed44ed",
   "metadata": {},
   "outputs": [],
   "source": [
    "def ANDNOT(x1, x2, weights, threshold=-1.1):\n",
    "    # create McPitts neuron\n",
    "    andnot_neuron = McPitts_Model(weights, threshold)\n",
    "    # Activate the neuron with inputs x1 and x2\n",
    "    return andnot_neuron.activation([x1, x2])"
   ]
  },
  {
   "cell_type": "code",
   "execution_count": 31,
   "id": "c889790f",
   "metadata": {},
   "outputs": [
    {
     "name": "stdout",
     "output_type": "stream",
     "text": [
      "\n",
      "Truth Table for :AND NOT\n",
      "| X1 | X2 | Output |\n",
      "--------------------\n",
      "| 0 | 0 | 1 |\n",
      "| 0 | 1 | 1 |\n",
      "| 1 | 0 | 1 |\n",
      "| 1 | 1 | 0 |\n"
     ]
    }
   ],
   "source": [
    "weights = [-1, -1]\n",
    "inputs = [(0, 0), (0, 1), (1, 0), (1, 1)]\n",
    "outputs = [ANDNOT(x1, x2, weights) for x1, x2 in inputs]\n",
    "\n",
    "\n",
    "print(\"\\nTruth Table for :AND NOT\")\n",
    "print(\"| X1 | X2 | Output |\")\n",
    "print(\"--------------------\")\n",
    "for (x1, x2), result in zip(inputs, outputs):\n",
    "    print(f\"| {x1} | {x2} | {result} |\")"
   ]
  },
  {
   "cell_type": "code",
   "execution_count": null,
   "id": "65a7798f",
   "metadata": {},
   "outputs": [],
   "source": []
  }
 ],
 "metadata": {
  "kernelspec": {
   "display_name": "Python 3 (ipykernel)",
   "language": "python",
   "name": "python3"
  },
  "language_info": {
   "codemirror_mode": {
    "name": "ipython",
    "version": 3
   },
   "file_extension": ".py",
   "mimetype": "text/x-python",
   "name": "python",
   "nbconvert_exporter": "python",
   "pygments_lexer": "ipython3",
   "version": "3.12.8"
  }
 },
 "nbformat": 4,
 "nbformat_minor": 5
}
