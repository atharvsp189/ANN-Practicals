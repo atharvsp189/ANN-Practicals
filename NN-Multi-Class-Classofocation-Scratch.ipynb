{
 "cells": [
  {
   "cell_type": "code",
   "execution_count": 1,
   "id": "379fcea6",
   "metadata": {},
   "outputs": [
    {
     "name": "stdout",
     "output_type": "stream",
     "text": [
      "Neural Network for multi class classification from scratch\n"
     ]
    }
   ],
   "source": [
    "print(\"Neural Network for multi class classification from scratch\")"
   ]
  },
  {
   "cell_type": "code",
   "execution_count": 2,
   "id": "9a44b0b8",
   "metadata": {},
   "outputs": [],
   "source": [
    "import numpy as np\n",
    "\n",
    "X = np.random.rand(100, 5)\n",
    "Y = np.random.randint(0, 3, 100)"
   ]
  },
  {
   "cell_type": "code",
   "execution_count": 3,
   "id": "2c0c626a",
   "metadata": {},
   "outputs": [],
   "source": [
    "# turning target into categorical variable\n",
    "def one_hot_encode(Y, num_classes):\n",
    "    encoded = np.zeros((Y.size, num_classes))\n",
    "    encoded[np.arange(Y.size), Y] = 1\n",
    "    return encoded\n",
    "\n",
    "Y = one_hot_encode(Y, 3)"
   ]
  },
  {
   "cell_type": "code",
   "execution_count": 4,
   "id": "ab2e7531",
   "metadata": {},
   "outputs": [],
   "source": [
    "# train test split\n",
    "split = int(0.8 * len(X))\n",
    "\n",
    "X_train, X_test = X[:split], X[split:]\n",
    "Y_train, Y_test = Y[:split], Y[split:]"
   ]
  },
  {
   "cell_type": "code",
   "execution_count": 5,
   "id": "4eb442f4",
   "metadata": {},
   "outputs": [],
   "source": [
    "input_size = X.shape[1]\n",
    "hidden_size = 10\n",
    "output_size = 3\n",
    "learning_rate = 0.01\n",
    "epochs = 200"
   ]
  },
  {
   "cell_type": "code",
   "execution_count": 6,
   "id": "83054238",
   "metadata": {},
   "outputs": [],
   "source": [
    "np.random.seed(42)\n",
    "W1 = np.random.randn(input_size, hidden_size)\n",
    "b1 = np.zeros((1, hidden_size))\n",
    "W2 = np.random.randn(hidden_size, output_size)\n",
    "b2 = np.zeros((1, output_size))"
   ]
  },
  {
   "cell_type": "code",
   "execution_count": 7,
   "id": "06f44077",
   "metadata": {},
   "outputs": [],
   "source": [
    "# activation function\n",
    "def relu(x):\n",
    "    return np.maximum(0, x)\n",
    "\n",
    "def softmax(x):\n",
    "    exp_x = np.exp(x - np.max(x, axis=1, keepdims=True))\n",
    "    return exp_x / np.sum(exp_x, axis=1, keepdims=True)"
   ]
  },
  {
   "cell_type": "code",
   "execution_count": 8,
   "id": "f2a6dbb4",
   "metadata": {},
   "outputs": [],
   "source": [
    "# forward propagation\n",
    "def forward_propagation(X):\n",
    "    global Z1, A1, Z2, A2\n",
    "    Z1 = np.dot(X, W1) + b1\n",
    "    A1 = relu(Z1)\n",
    "    Z2 = np.dot(A1, W2) + b2\n",
    "    A2 = softmax(Z2)\n",
    "    return A2\n"
   ]
  },
  {
   "cell_type": "code",
   "execution_count": 9,
   "id": "4d621840",
   "metadata": {},
   "outputs": [],
   "source": [
    "# compute loss\n",
    "def compute_loss(y_true, y_pred):\n",
    "    m = y_true.shape[0]\n",
    "    return -np.sum(y_true * np.log(y_pred + 1e-8)) / m"
   ]
  },
  {
   "cell_type": "code",
   "execution_count": 10,
   "id": "2e424765",
   "metadata": {},
   "outputs": [],
   "source": [
    "# backpropogation\n",
    "def back_propagation(X, y_true, y_pred):\n",
    "    global W1, b1, W2, b2\n",
    "    m = X.shape[0]\n",
    "    dZ2 = y_pred - y_true\n",
    "    dW2 = np.dot(A1.T, dZ2) / m\n",
    "    db2 = np.sum(dZ2, axis=0, keepdims=True) / m\n",
    "    dA1 = np.dot(dZ2, W2.T)\n",
    "    dZ1 = dA1 * (Z1 > 0) # Derivative of ReLU\n",
    "    dW1 = np.dot(X.T, dZ1) / m\n",
    "    db1 = np.sum(dZ1, axis=0, keepdims=True) / m\n",
    "    W1 -= learning_rate * dW1\n",
    "    b1 -= learning_rate * db1\n",
    "    W2 -= learning_rate * dW2\n",
    "    b2 -= learning_rate * db2"
   ]
  },
  {
   "cell_type": "code",
   "execution_count": 11,
   "id": "19bedf47",
   "metadata": {},
   "outputs": [
    {
     "name": "stdout",
     "output_type": "stream",
     "text": [
      "Epoch 0: Loss = 1.1590, Accuracy = 37.50%\n",
      "Epoch 10: Loss = 1.1507, Accuracy = 37.50%\n",
      "Epoch 20: Loss = 1.1444, Accuracy = 37.50%\n",
      "Epoch 30: Loss = 1.1392, Accuracy = 38.75%\n",
      "Epoch 40: Loss = 1.1349, Accuracy = 40.00%\n",
      "Epoch 50: Loss = 1.1311, Accuracy = 40.00%\n",
      "Epoch 60: Loss = 1.1278, Accuracy = 41.25%\n",
      "Epoch 70: Loss = 1.1251, Accuracy = 43.75%\n",
      "Epoch 80: Loss = 1.1226, Accuracy = 43.75%\n",
      "Epoch 90: Loss = 1.1203, Accuracy = 45.00%\n",
      "Epoch 100: Loss = 1.1182, Accuracy = 45.00%\n",
      "Epoch 110: Loss = 1.1163, Accuracy = 43.75%\n",
      "Epoch 120: Loss = 1.1144, Accuracy = 45.00%\n",
      "Epoch 130: Loss = 1.1127, Accuracy = 45.00%\n",
      "Epoch 140: Loss = 1.1111, Accuracy = 45.00%\n",
      "Epoch 150: Loss = 1.1096, Accuracy = 45.00%\n",
      "Epoch 160: Loss = 1.1081, Accuracy = 45.00%\n",
      "Epoch 170: Loss = 1.1066, Accuracy = 45.00%\n",
      "Epoch 180: Loss = 1.1052, Accuracy = 43.75%\n",
      "Epoch 190: Loss = 1.1039, Accuracy = 45.00%\n"
     ]
    }
   ],
   "source": [
    "# training the model\n",
    "losses = []\n",
    "accuracies = []\n",
    "\n",
    "for epoch in range(epochs):\n",
    "    Y_pred = forward_propagation(X_train)\n",
    "    loss = compute_loss(Y_train, Y_pred)\n",
    "    back_propagation(X_train, Y_train, Y_pred)\n",
    "    \n",
    "    # Calculate accuracy\n",
    "    predictions = np.argmax(Y_pred, axis=1)\n",
    "    actual = np.argmax(Y_train, axis=1)\n",
    "    accuracy = np.mean(predictions == actual)\n",
    "    losses.append(loss)\n",
    "    accuracies.append(accuracy)\n",
    "\n",
    "    if epoch % 10 == 0:\n",
    "        print(f\"Epoch {epoch}: Loss = {loss:.4f}, Accuracy = {accuracy * 100:.2f}%\")\n"
   ]
  },
  {
   "cell_type": "code",
   "execution_count": 12,
   "id": "ce6f8896",
   "metadata": {},
   "outputs": [
    {
     "name": "stdout",
     "output_type": "stream",
     "text": [
      "Test Accuracy: 25.00%\n"
     ]
    }
   ],
   "source": [
    "# Evaluate on test set\n",
    "Y_test_pred = forward_propagation(X_test)\n",
    "test_predictions = np.argmax(Y_test_pred, axis=1)\n",
    "test_actual = np.argmax(Y_test, axis=1)\n",
    "test_accuracy = np.mean(test_predictions == test_actual)\n",
    "print(f\"Test Accuracy: {test_accuracy * 100:.2f}%\")\n"
   ]
  },
  {
   "cell_type": "code",
   "execution_count": null,
   "id": "311e0b8e",
   "metadata": {},
   "outputs": [],
   "source": []
  }
 ],
 "metadata": {
  "kernelspec": {
   "display_name": ".venv",
   "language": "python",
   "name": "python3"
  },
  "language_info": {
   "codemirror_mode": {
    "name": "ipython",
    "version": 3
   },
   "file_extension": ".py",
   "mimetype": "text/x-python",
   "name": "python",
   "nbconvert_exporter": "python",
   "pygments_lexer": "ipython3",
   "version": "3.12.8"
  }
 },
 "nbformat": 4,
 "nbformat_minor": 5
}
