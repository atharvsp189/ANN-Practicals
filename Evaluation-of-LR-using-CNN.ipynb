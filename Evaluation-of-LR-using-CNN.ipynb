{
 "cells": [
  {
   "cell_type": "code",
   "execution_count": 1,
   "id": "83f0064c",
   "metadata": {},
   "outputs": [],
   "source": [
    "import tensorflow as tf\n",
    "import numpy as np\n",
    "from tensorflow.keras.datasets import mnist"
   ]
  },
  {
   "cell_type": "code",
   "execution_count": null,
   "id": "09e366f3",
   "metadata": {},
   "outputs": [
    {
     "name": "stdout",
     "output_type": "stream",
     "text": [
      "Downloading data from https://storage.googleapis.com/tensorflow/tf-keras-datasets/mnist.npz\n",
      "\u001b[1m11490434/11490434\u001b[0m \u001b[32m━━━━━━━━━━━━━━━━━━━━\u001b[0m\u001b[37m\u001b[0m \u001b[1m18s\u001b[0m 2us/step\n"
     ]
    }
   ],
   "source": [
    "# Load dataset\n",
    "(mnist_train_images, mnist_train_labels), (mnist_test_images, mnist_test_labels) = tf.keras.datasets.mnist.load_data()"
   ]
  },
  {
   "cell_type": "code",
   "execution_count": 7,
   "id": "7f33a12b",
   "metadata": {},
   "outputs": [
    {
     "name": "stdout",
     "output_type": "stream",
     "text": [
      "Mnist Train Images shape: (60000, 28, 28)\n",
      "Mnist Test Images shape: (10000, 28, 28)\n",
      "Mnist Train  shape: (60000,)\n",
      "Mnist Train Images shape: (10000,)\n"
     ]
    }
   ],
   "source": [
    "print(f\"Mnist Train Images shape: {mnist_train_images.shape}\")\n",
    "print(f\"Mnist Test Images shape: {mnist_test_images.shape}\")\n",
    "print(f\"Mnist Train  shape: {mnist_train_labels.shape}\")\n",
    "print(f\"Mnist Train Images shape: {mnist_test_labels.shape}\")"
   ]
  },
  {
   "cell_type": "code",
   "execution_count": 8,
   "id": "2cc1ed36",
   "metadata": {},
   "outputs": [],
   "source": [
    "# Normalize images\n",
    "mnist_train_images = mnist_train_images.astype('float32') / 255.0\n",
    "mnist_test_images = mnist_test_images.astype('float32') / 255.0\n",
    "\n",
    "# Flatten images to vectors of size 784\n",
    "mnist_train_images = mnist_train_images.reshape(-1, 28 * 28)\n",
    "mnist_test_images = mnist_test_images.reshape(-1, 28 * 28)"
   ]
  },
  {
   "cell_type": "code",
   "execution_count": 9,
   "id": "d2fd8e9d",
   "metadata": {},
   "outputs": [],
   "source": [
    "# Hyperparameters\n",
    "learning_rate = 0.1\n",
    "num_epochs = 50\n",
    "batch_size = 128\n",
    "num_features = 28 * 28\n",
    "num_classes = 10"
   ]
  },
  {
   "cell_type": "code",
   "execution_count": 10,
   "id": "31dbd0bd",
   "metadata": {},
   "outputs": [],
   "source": [
    "# Shuffling and batching the data using tf.data API\n",
    "\n",
    "train_dataset = tf.data.Dataset.from_tensor_slices((mnist_train_images, mnist_train_labels))\n",
    "train_dataset = train_dataset.shuffle(buffer_size=1024).batch(batch_size)\n",
    "\n",
    "test_dataset = tf.data.Dataset.from_tensor_slices((mnist_test_images, mnist_test_labels))\n",
    "test_dataset = test_dataset.batch(batch_size)\n"
   ]
  },
  {
   "cell_type": "code",
   "execution_count": 11,
   "id": "ed6f9352",
   "metadata": {},
   "outputs": [],
   "source": [
    "W = tf.Variable(tf.random.normal([num_features, num_classes], stddev=0.01))\n",
    "b = tf.Variable(tf.zeros([num_classes]))\n",
    "\n",
    "# Step 6: Defining logistic regression model and cost function\n",
    "def logistic_regression(x):\n",
    "    logits = tf.matmul(x, W) + b  # Linear computation\n",
    "    return tf.nn.softmax(logits)  # Apply softmax to get probabilities\n",
    "\n",
    "def cross_entropy_loss(y_true, y_pred):\n",
    "    # Convert labels to one-hot vectors\n",
    "    y_true_onehot = tf.one_hot(y_true, depth=num_classes)\n",
    "    # Compute cross entropy loss\n",
    "    loss = tf.reduce_mean(-tf.reduce_sum(y_true_onehot * tf.math.log(y_pred + 1e-10), axis=1))\n",
    "    return loss"
   ]
  },
  {
   "cell_type": "code",
   "execution_count": null,
   "id": "48a60488",
   "metadata": {},
   "outputs": [],
   "source": [
    "# optimizer and accuracy metric\n",
    "optimizer = tf.optimizers.SGD(learning_rate=learning_rate)\n",
    "\n",
    "\n",
    "def compute_accuracy(y_true, y_pred):\n",
    "    # Cast y_true to int32 to match tf.argmax's output type\n",
    "    y_true = tf.cast(y_true, tf.int32)\n",
    "    correct_preds = tf.equal(tf.argmax(y_pred, axis=1, output_type=tf.int32), y_true)\n",
    "    return tf.reduce_mean(tf.cast(correct_preds, tf.float32))"
   ]
  },
  {
   "cell_type": "code",
   "execution_count": 13,
   "id": "a07c430c",
   "metadata": {},
   "outputs": [
    {
     "name": "stdout",
     "output_type": "stream",
     "text": [
      "Epoch 1/50, Loss: 0.5717\n",
      "Epoch 2/50, Loss: 0.3737\n",
      "Epoch 3/50, Loss: 0.3422\n",
      "Epoch 4/50, Loss: 0.3257\n",
      "Epoch 5/50, Loss: 0.3150\n",
      "Epoch 6/50, Loss: 0.3073\n",
      "Epoch 7/50, Loss: 0.3017\n",
      "Epoch 8/50, Loss: 0.2970\n",
      "Epoch 9/50, Loss: 0.2933\n",
      "Epoch 10/50, Loss: 0.2901\n",
      "Epoch 11/50, Loss: 0.2873\n",
      "Epoch 12/50, Loss: 0.2848\n",
      "Epoch 13/50, Loss: 0.2827\n",
      "Epoch 14/50, Loss: 0.2807\n",
      "Epoch 15/50, Loss: 0.2790\n",
      "Epoch 16/50, Loss: 0.2775\n",
      "Epoch 17/50, Loss: 0.2760\n",
      "Epoch 18/50, Loss: 0.2747\n",
      "Epoch 19/50, Loss: 0.2735\n",
      "Epoch 20/50, Loss: 0.2723\n",
      "Epoch 21/50, Loss: 0.2711\n",
      "Epoch 22/50, Loss: 0.2702\n",
      "Epoch 23/50, Loss: 0.2694\n",
      "Epoch 24/50, Loss: 0.2685\n",
      "Epoch 25/50, Loss: 0.2676\n",
      "Epoch 26/50, Loss: 0.2670\n",
      "Epoch 27/50, Loss: 0.2661\n",
      "Epoch 28/50, Loss: 0.2654\n",
      "Epoch 29/50, Loss: 0.2646\n",
      "Epoch 30/50, Loss: 0.2640\n",
      "Epoch 31/50, Loss: 0.2636\n",
      "Epoch 32/50, Loss: 0.2629\n",
      "Epoch 33/50, Loss: 0.2623\n",
      "Epoch 34/50, Loss: 0.2617\n",
      "Epoch 35/50, Loss: 0.2615\n",
      "Epoch 36/50, Loss: 0.2608\n",
      "Epoch 37/50, Loss: 0.2603\n",
      "Epoch 38/50, Loss: 0.2598\n",
      "Epoch 39/50, Loss: 0.2593\n",
      "Epoch 40/50, Loss: 0.2589\n",
      "Epoch 41/50, Loss: 0.2585\n",
      "Epoch 42/50, Loss: 0.2579\n",
      "Epoch 43/50, Loss: 0.2576\n",
      "Epoch 44/50, Loss: 0.2573\n",
      "Epoch 45/50, Loss: 0.2569\n",
      "Epoch 46/50, Loss: 0.2565\n",
      "Epoch 47/50, Loss: 0.2563\n",
      "Epoch 48/50, Loss: 0.2558\n",
      "Epoch 49/50, Loss: 0.2554\n",
      "Epoch 50/50, Loss: 0.2552\n"
     ]
    }
   ],
   "source": [
    "# training\n",
    "\n",
    "for epoch in range(num_epochs):\n",
    "    epoch_loss = 0\n",
    "    for step, (batch_x, batch_y) in enumerate(train_dataset):\n",
    "        with tf.GradientTape() as tape:\n",
    "            # Forward pass: compute predictions\n",
    "            predictions = logistic_regression(batch_x)\n",
    "            # Compute loss for the current batch\n",
    "            loss = cross_entropy_loss(batch_y, predictions)\n",
    "        # Step 8: Compute gradients\n",
    "        gradients = tape.gradient(loss, [W, b])\n",
    "        # Step 8: Update weights and biases using the optimizer\n",
    "        optimizer.apply_gradients(zip(gradients, [W, b]))\n",
    "        epoch_loss += loss.numpy()\n",
    "\n",
    "    # Compute average loss for the epoch\n",
    "    avg_loss = epoch_loss / (step + 1)\n",
    "    print(f\"Epoch {epoch+1}/{num_epochs}, Loss: {avg_loss:.4f}\")"
   ]
  },
  {
   "cell_type": "code",
   "execution_count": 14,
   "id": "a693f668",
   "metadata": {},
   "outputs": [
    {
     "name": "stdout",
     "output_type": "stream",
     "text": [
      "\n",
      "Test Accuracy: 92.52%\n"
     ]
    }
   ],
   "source": [
    "test_accuracy = 0\n",
    "num_batches = 0\n",
    "for batch_x, batch_y in test_dataset:\n",
    "    predictions = logistic_regression(batch_x)\n",
    "    batch_accuracy = compute_accuracy(batch_y, predictions)\n",
    "    test_accuracy += batch_accuracy.numpy()\n",
    "    num_batches += 1\n",
    "\n",
    "test_accuracy /= num_batches\n",
    "print(f\"\\nTest Accuracy: {test_accuracy * 100:.2f}%\")"
   ]
  },
  {
   "cell_type": "code",
   "execution_count": null,
   "id": "9444197b",
   "metadata": {},
   "outputs": [],
   "source": []
  }
 ],
 "metadata": {
  "kernelspec": {
   "display_name": ".venv",
   "language": "python",
   "name": "python3"
  },
  "language_info": {
   "codemirror_mode": {
    "name": "ipython",
    "version": 3
   },
   "file_extension": ".py",
   "mimetype": "text/x-python",
   "name": "python",
   "nbconvert_exporter": "python",
   "pygments_lexer": "ipython3",
   "version": "3.12.8"
  }
 },
 "nbformat": 4,
 "nbformat_minor": 5
}
