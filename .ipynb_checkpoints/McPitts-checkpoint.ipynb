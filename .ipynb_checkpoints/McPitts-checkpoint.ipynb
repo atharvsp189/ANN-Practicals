{
 "cells": [
  {
   "cell_type": "code",
   "execution_count": 1,
   "id": "49ce69cf",
   "metadata": {},
   "outputs": [
    {
     "name": "stdout",
     "output_type": "stream",
     "text": [
      "McPitts\n"
     ]
    }
   ],
   "source": [
    "print(\"McPitts\")"
   ]
  },
  {
   "cell_type": "code",
   "execution_count": 2,
   "id": "f15c2983",
   "metadata": {},
   "outputs": [],
   "source": [
    "import matplotlib.pyplot as plt"
   ]
  },
  {
   "cell_type": "code",
   "execution_count": 3,
   "id": "a8302e16",
   "metadata": {},
   "outputs": [],
   "source": [
    "class McPitts_Model:\n",
    "    def __init__(self, weights, threshold):\n",
    "        self.weights = weights\n",
    "        self.threshold = threshold\n",
    "    \n",
    "    def activation(self, inputs):\n",
    "        net_input = sum(w * x for w, x in zip(self.weights, inputs))\n",
    "        return 1 if net_input > self.threshold else 0"
   ]
  },
  {
   "cell_type": "code",
   "execution_count": 4,
   "id": "e3ed44ed",
   "metadata": {},
   "outputs": [],
   "source": [
    "def ANDNOT(x1, x2, weights, threshold=0):\n",
    "    # create McPitts neuron\n",
    "    andnot_neuron = McPitts_Model(weights, threshold)\n",
    "    # Activate the neuron with inputs x1 and x2\n",
    "    return andnot_neuron.activation([x1, x2])"
   ]
  },
  {
   "cell_type": "code",
   "execution_count": null,
   "id": "d58db668",
   "metadata": {},
   "outputs": [],
   "source": [
    "w_x1 = int(input(\"Enter weight of x1: \"))\n",
    "w_x2 = int(input(\"Enter weight of x2: \"))\n",
    "if w_x1 < 0 or w_x2 < 0:\n",
    "    print(\"Weights must be non-negative.\")"
   ]
  },
  {
   "cell_type": "code",
   "execution_count": 5,
   "id": "c889790f",
   "metadata": {},
   "outputs": [
    {
     "ename": "NameError",
     "evalue": "name 'w_x1' is not defined",
     "output_type": "error",
     "traceback": [
      "\u001b[31m---------------------------------------------------------------------------\u001b[39m",
      "\u001b[31mNameError\u001b[39m                                 Traceback (most recent call last)",
      "\u001b[36mCell\u001b[39m\u001b[36m \u001b[39m\u001b[32mIn[5]\u001b[39m\u001b[32m, line 1\u001b[39m\n\u001b[32m----> \u001b[39m\u001b[32m1\u001b[39m weights = [\u001b[43mw_x1\u001b[49m, w_x2]\n\u001b[32m      2\u001b[39m inputs = [(\u001b[32m0\u001b[39m, \u001b[32m0\u001b[39m), (\u001b[32m0\u001b[39m, \u001b[32m1\u001b[39m), (\u001b[32m1\u001b[39m, \u001b[32m0\u001b[39m), (\u001b[32m1\u001b[39m, \u001b[32m1\u001b[39m)]\n\u001b[32m      3\u001b[39m outputs = [ANDNOT(x1, x2, weights) \u001b[38;5;28;01mfor\u001b[39;00m x1, x2 \u001b[38;5;129;01min\u001b[39;00m inputs]\n",
      "\u001b[31mNameError\u001b[39m: name 'w_x1' is not defined"
     ]
    }
   ],
   "source": [
    "weights = [w_x1, w_x2]\n",
    "inputs = [(0, 0), (0, 1), (1, 0), (1, 1)]\n",
    "outputs = [ANDNOT(x1, x2, weights) for x1, x2 in inputs]\n",
    "\n",
    "\n",
    "print(\"\\nTruth Table for :AND NOT\")\n",
    "print(\"| X1 | X2 | Output |\")\n",
    "print(\"--------------------\")\n",
    "for (x1, x2), result in zip(inputs, outputs):\n",
    "    print(f\"| {x1} | {x2} | {result} |\")"
   ]
  },
  {
   "cell_type": "code",
   "execution_count": null,
   "id": "5a7a3731",
   "metadata": {},
   "outputs": [],
   "source": []
  }
 ],
 "metadata": {
  "kernelspec": {
   "display_name": ".venv",
   "language": "python",
   "name": "python3"
  },
  "language_info": {
   "codemirror_mode": {
    "name": "ipython",
    "version": 3
   },
   "file_extension": ".py",
   "mimetype": "text/x-python",
   "name": "python",
   "nbconvert_exporter": "python",
   "pygments_lexer": "ipython3",
   "version": "3.12.8"
  }
 },
 "nbformat": 4,
 "nbformat_minor": 5
}
