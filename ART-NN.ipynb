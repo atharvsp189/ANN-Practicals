{
 "cells": [
  {
   "cell_type": "code",
   "execution_count": 18,
   "id": "263aee0a",
   "metadata": {},
   "outputs": [
    {
     "name": "stdout",
     "output_type": "stream",
     "text": [
      "ART Neural Network\n"
     ]
    }
   ],
   "source": [
    "print(\"ART Neural Network\")"
   ]
  },
  {
   "cell_type": "code",
   "execution_count": 19,
   "id": "6010c17f",
   "metadata": {},
   "outputs": [],
   "source": [
    "import numpy as np"
   ]
  },
  {
   "cell_type": "code",
   "execution_count": 23,
   "id": "b13d5b64",
   "metadata": {},
   "outputs": [],
   "source": [
    "class ART:\n",
    "    def __init__(self, input_size, vigilance=0.8, learning_rate=1.0):\n",
    "        self.input_size = input_size\n",
    "        self.vigilance = vigilance\n",
    "        self.learning_rate = learning_rate\n",
    "        # List to store weight vectors for each category (F2 nodes)\n",
    "        self.categories = []\n",
    "\n",
    "    def similarity(self, input_pattern, weight):\n",
    "        # Calculate overlap (logical AND)\n",
    "        overlap = np.sum(np.logical_and(input_pattern, weight))\n",
    "        \n",
    "        norm = np.sum(input_pattern) if np.sum(input_pattern) != 0 else 1\n",
    "        return overlap / norm\n",
    "    \n",
    "    def update_weights(self, weight, input_pattern):\n",
    "        # New weight vector is the elementwise minimum of the old weight and input pattern.\n",
    "        return np.minimum(weight, input_pattern)\n",
    "\n",
    "    def process_input(self, input_pattern):\n",
    "        input_pattern = np.array(input_pattern)\n",
    "        best_similarity = -1\n",
    "        best_category = -1\n",
    "        \n",
    "        # Compare input pattern with each existing category\n",
    "        for i, weight in enumerate(self.categories):\n",
    "            sim = self.similarity(input_pattern, weight)\n",
    "            if sim > best_similarity:\n",
    "                best_similarity = sim\n",
    "                best_category = i\n",
    "        \n",
    "        # Check if any category exists and passes the vigilance test\n",
    "        if best_category != -1 and best_similarity >= self.vigilance:\n",
    "            print(f\"Updating existing category {best_category} (similarity: {best_similarity:.2f}).\")\n",
    "            self.categories[best_category] = self.update_weights(self.categories[best_category], input_pattern)\n",
    "            return best_category\n",
    "        else:\n",
    "            # Create a new category if no existing one passes the vigilance test\n",
    "            print(\"Creating a new category.\")\n",
    "            self.categories.append(input_pattern.copy())\n",
    "            return len(self.categories) - 1\n",
    "\n",
    "    def train(self, input_patterns):\n",
    "        \n",
    "        for idx, pattern in enumerate(input_patterns):\n",
    "            print(f\"\\nProcessing input pattern {idx}: {pattern}\")\n",
    "            category = self.process_input(pattern)\n",
    "            print(f\"Input pattern {idx} assigned to category {category}.\")\n",
    "            print(\"Current category weights:\")\n",
    "            for j, weight in enumerate(self.categories):\n",
    "                print(f\"  Category {j}: {weight}\")\n",
    "\n",
    "    def predict(self, input_pattern):\n",
    "        input_pattern = np.array(input_pattern)\n",
    "        best_similarity = -1\n",
    "        best_category = -1\n",
    "        \n",
    "        for i, weight in enumerate(self.categories):\n",
    "            sim = self.similarity(input_pattern, weight)\n",
    "            if sim > best_similarity:\n",
    "                best_similarity = sim\n",
    "                best_category = i\n",
    "        \n",
    "        if best_category != -1 and best_similarity >= self.vigilance:\n",
    "            return best_category\n",
    "        else:\n",
    "            return -1"
   ]
  },
  {
   "cell_type": "code",
   "execution_count": 24,
   "id": "b1c6d200",
   "metadata": {},
   "outputs": [
    {
     "name": "stdout",
     "output_type": "stream",
     "text": [
      "\n",
      "Processing input pattern 0: [1, 0, 1, 0, 1]\n",
      "Creating a new category.\n",
      "Input pattern 0 assigned to category 0.\n",
      "Current category weights:\n",
      "  Category 0: [1 0 1 0 1]\n",
      "\n",
      "Processing input pattern 1: [1, 1, 1, 0, 0]\n",
      "Creating a new category.\n",
      "Input pattern 1 assigned to category 1.\n",
      "Current category weights:\n",
      "  Category 0: [1 0 1 0 1]\n",
      "  Category 1: [1 1 1 0 0]\n",
      "\n",
      "Processing input pattern 2: [0, 0, 1, 0, 1]\n",
      "Updating existing category 0 (similarity: 1.00).\n",
      "Input pattern 2 assigned to category 0.\n",
      "Current category weights:\n",
      "  Category 0: [0 0 1 0 1]\n",
      "  Category 1: [1 1 1 0 0]\n",
      "\n",
      "Processing input pattern 3: [1, 0, 0, 1, 0]\n",
      "Creating a new category.\n",
      "Input pattern 3 assigned to category 2.\n",
      "Current category weights:\n",
      "  Category 0: [0 0 1 0 1]\n",
      "  Category 1: [1 1 1 0 0]\n",
      "  Category 2: [1 0 0 1 0]\n",
      "\n",
      "Processing input pattern 4: [0, 1, 1, 0, 1]\n",
      "Creating a new category.\n",
      "Input pattern 4 assigned to category 3.\n",
      "Current category weights:\n",
      "  Category 0: [0 0 1 0 1]\n",
      "  Category 1: [1 1 1 0 0]\n",
      "  Category 2: [1 0 0 1 0]\n",
      "  Category 3: [0 1 1 0 1]\n"
     ]
    }
   ],
   "source": [
    "input_patterns = [\n",
    "    [1, 0, 1, 0, 1],\n",
    "    [1, 1, 1, 0, 0],\n",
    "    [0, 0, 1, 0, 1],\n",
    "    [1, 0, 0, 1, 0],\n",
    "    [0, 1, 1, 0, 1]\n",
    "]\n",
    "\n",
    "# Create ART1 network instance with input size equal to the length of patterns\n",
    "art_network = ART(input_size=5, vigilance=0.8)\n",
    "\n",
    "# Train the network with the input patterns\n",
    "art_network.train(input_patterns)\n"
   ]
  },
  {
   "cell_type": "code",
   "execution_count": 25,
   "id": "2cc08bd0",
   "metadata": {},
   "outputs": [
    {
     "name": "stdout",
     "output_type": "stream",
     "text": [
      "\n",
      "New pattern [1, 0, 1, 0, 1] belongs to category -1\n"
     ]
    }
   ],
   "source": [
    "new_pattern = [1, 0, 1, 0, 1]\n",
    "category = art_network.predict(new_pattern)\n",
    "print(f\"\\nNew pattern {new_pattern} belongs to category {category}\")"
   ]
  }
 ],
 "metadata": {
  "kernelspec": {
   "display_name": ".venv",
   "language": "python",
   "name": "python3"
  },
  "language_info": {
   "codemirror_mode": {
    "name": "ipython",
    "version": 3
   },
   "file_extension": ".py",
   "mimetype": "text/x-python",
   "name": "python",
   "nbconvert_exporter": "python",
   "pygments_lexer": "ipython3",
   "version": "3.12.8"
  }
 },
 "nbformat": 4,
 "nbformat_minor": 5
}
