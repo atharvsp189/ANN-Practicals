{
 "cells": [
  {
   "cell_type": "code",
   "execution_count": 1,
   "id": "4112ee41",
   "metadata": {},
   "outputs": [],
   "source": [
    "import numpy as np"
   ]
  },
  {
   "cell_type": "code",
   "execution_count": null,
   "id": "95609b53",
   "metadata": {},
   "outputs": [],
   "source": [
    "class Hopfield:\n",
    "    def __init__(self,num_units):\n",
    "        self.num_units=num_units\n",
    "        self.weights=np.zeros((num_units,num_units))\n",
    "\n",
    "    def train(self, patterns):\n",
    "        num_patterns = len(patterns)\n",
    "        for p in patterns:\n",
    "            \n",
    "            self.weights += np.outer(p, p)\n",
    "        \n",
    "        np.fill_diagonal(self.weights, 0)\n",
    "        self.weights /= num_patterns\n",
    "    \n",
    "    def update(self, state):\n",
    "        \n",
    "        new_state = state.copy()\n",
    "        for i in range(self.num_units):\n",
    "            raw_value = np.dot(self.weights[i], state)\n",
    "            new_state[i] = 1 if raw_value >= 0 else -1\n",
    "        return new_state\n",
    "    \n",
    "    def predict(self, input_state, max_steps=10):\n",
    "        \n",
    "        state = input_state.copy()\n",
    "        for step in range(max_steps):\n",
    "            new_state = self.update(state)\n",
    "            if np.array_equal(new_state, state):\n",
    "                print(f\"Converged in {step+1} steps.\")\n",
    "                break\n",
    "            state = new_state\n",
    "        return state"
   ]
  },
  {
   "cell_type": "code",
   "execution_count": 3,
   "id": "4c2528b2",
   "metadata": {},
   "outputs": [],
   "source": [
    "# Define pattern\n",
    "pattern1 = np.array([1,  1, -1, -1, -1, -1, 1])\n",
    "pattern2 = np.array([1, -1,  1, -1, 1, -1, 1])\n",
    "pattern3 = np.array([-1, 1, -1, 1, -1, 1, -1])\n",
    "pattern4 = np.array([-1, -1, 1, 1, 1, 1, -1])\n",
    "patterns = [pattern1, pattern2, pattern3, pattern4]"
   ]
  },
  {
   "cell_type": "code",
   "execution_count": 5,
   "id": "5dfe1b70",
   "metadata": {},
   "outputs": [],
   "source": [
    "# Initialize NN\n",
    "num_units=len(pattern1)\n",
    "hopfield_net=Hopfield(num_units)"
   ]
  },
  {
   "cell_type": "code",
   "execution_count": 6,
   "id": "1d3a4123",
   "metadata": {},
   "outputs": [
    {
     "name": "stdout",
     "output_type": "stream",
     "text": [
      "[[ 0.  0.  0. -1.  0. -1.  1.]\n",
      " [ 0.  0. -1.  0. -1.  0.  0.]\n",
      " [ 0. -1.  0.  0.  1.  0.  0.]\n",
      " [-1.  0.  0.  0.  0.  1. -1.]\n",
      " [ 0. -1.  1.  0.  0.  0.  0.]\n",
      " [-1.  0.  0.  1.  0.  0. -1.]\n",
      " [ 1.  0.  0. -1.  0. -1.  0.]]\n"
     ]
    }
   ],
   "source": [
    "hopfield_net.train(patterns)\n",
    "print(hopfield_net.weights)"
   ]
  },
  {
   "cell_type": "code",
   "execution_count": 7,
   "id": "6a717366",
   "metadata": {},
   "outputs": [
    {
     "name": "stdout",
     "output_type": "stream",
     "text": [
      "Test Pattern:  [ 1 -1 -1 -1  1 -1  1]\n"
     ]
    }
   ],
   "source": [
    "test_pattern = np.array([1, -1, -1, -1, 1, -1, 1])\n",
    "print(\"Test Pattern: \",test_pattern)"
   ]
  },
  {
   "cell_type": "code",
   "execution_count": 8,
   "id": "cf4965ee",
   "metadata": {},
   "outputs": [
    {
     "name": "stdout",
     "output_type": "stream",
     "text": [
      "Converged in 3 steps.\n",
      "Retrieved pattern: [ 1 -1  1 -1  1 -1  1]\n"
     ]
    }
   ],
   "source": [
    "retrieved_pattern = hopfield_net.predict(test_pattern, max_steps=10)\n",
    "print(\"Retrieved pattern:\", retrieved_pattern)"
   ]
  },
  {
   "cell_type": "code",
   "execution_count": null,
   "id": "4e869a04",
   "metadata": {},
   "outputs": [],
   "source": []
  }
 ],
 "metadata": {
  "kernelspec": {
   "display_name": ".venv",
   "language": "python",
   "name": "python3"
  },
  "language_info": {
   "codemirror_mode": {
    "name": "ipython",
    "version": 3
   },
   "file_extension": ".py",
   "mimetype": "text/x-python",
   "name": "python",
   "nbconvert_exporter": "python",
   "pygments_lexer": "ipython3",
   "version": "3.12.8"
  }
 },
 "nbformat": 4,
 "nbformat_minor": 5
}
