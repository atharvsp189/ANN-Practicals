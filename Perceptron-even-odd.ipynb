{
 "cells": [
  {
   "cell_type": "code",
   "execution_count": 1,
   "id": "796f2e20",
   "metadata": {},
   "outputs": [
    {
     "name": "stdout",
     "output_type": "stream",
     "text": [
      "Perceptron to Classify Even and Odd ASCII Numbers\n"
     ]
    }
   ],
   "source": [
    "print(\"Perceptron to Classify Even and Odd ASCII Numbers\")    "
   ]
  },
  {
   "cell_type": "code",
   "execution_count": 2,
   "id": "066f3416",
   "metadata": {},
   "outputs": [],
   "source": [
    "import numpy as np"
   ]
  },
  {
   "cell_type": "code",
   "execution_count": 6,
   "id": "419a66d9",
   "metadata": {},
   "outputs": [
    {
     "name": "stdout",
     "output_type": "stream",
     "text": [
      "Data is:\n",
      "0, ASCII: 00110000, Output: 0\n",
      "1, ASCII: 00110001, Output: 1\n",
      "2, ASCII: 00110010, Output: 0\n",
      "3, ASCII: 00110011, Output: 1\n",
      "4, ASCII: 00110100, Output: 0\n",
      "5, ASCII: 00110101, Output: 1\n",
      "6, ASCII: 00110110, Output: 0\n",
      "7, ASCII: 00110111, Output: 1\n",
      "8, ASCII: 00111000, Output: 0\n",
      "9, ASCII: 00111001, Output: 1\n"
     ]
    }
   ],
   "source": [
    "data = {\n",
    "    \"label\" : [i for i in range(0, 10)],\n",
    "    \"input\" : [format(ord(str(i)), '08b') for i in range(10)],\n",
    "    \"output\"  : [0, 1, 0, 1, 0, 1, 0, 1, 0, 1]  \n",
    "}\n",
    "\n",
    "print(\"Data is:\")\n",
    "\n",
    "for i in range(len(data[\"label\"])):\n",
    "    print(f\"{data['label'][i]}, ASCII: {data['input'][i]}, Output: {data['output'][i]}\")"
   ]
  },
  {
   "cell_type": "code",
   "execution_count": 7,
   "id": "b83fb349",
   "metadata": {},
   "outputs": [],
   "source": [
    "class Perceptron:\n",
    "    def __init__(self, data):\n",
    "        self.data = data\n",
    "        self.weights = [0] * len(data[\"input\"][0])\n",
    "        self.bias = 0\n",
    "\n",
    "    def predict(self, x):\n",
    "        x = [int(i) for i in x]\n",
    "        return 1 if ( np.dot(self.weights, x) + self.bias ) > 0 else 0\n",
    "\n",
    "    def train(self, epoch=100, learning_rate=0.1):\n",
    "        input_size = len(self.data[\"input\"][0])\n",
    "        for i in range(epoch):\n",
    "            for j in range(len(self.data[\"input\"])):\n",
    "                x = self.data[\"input\"][j]\n",
    "                op = self.data[\"output\"][j]\n",
    "\n",
    "                x = [int(i) for i in x]\n",
    "                predict = self.predict(x)\n",
    "                self.weights = [w + (learning_rate * (op - predict) * xi) for w, xi in zip(self.weights, x)]\n",
    "                self.bias += learning_rate * (op - predict)\n"
   ]
  },
  {
   "cell_type": "code",
   "execution_count": 16,
   "id": "ab78bda4",
   "metadata": {},
   "outputs": [],
   "source": [
    "# Create an instance of the Perceptron class\n",
    "odd_even_perceptron = Perceptron(data)\n",
    "\n",
    "# Call the train method on the instance\n",
    "odd_even_perceptron.train()"
   ]
  },
  {
   "cell_type": "code",
   "execution_count": 17,
   "id": "5ca4407c",
   "metadata": {},
   "outputs": [
    {
     "name": "stdout",
     "output_type": "stream",
     "text": [
      "00110000 Even\n",
      "00110001 odd\n",
      "00110010 Even\n",
      "00110011 odd\n",
      "00110100 Even\n",
      "00110101 odd\n",
      "00110110 Even\n",
      "00110111 odd\n",
      "00111000 Even\n",
      "00111001 odd\n"
     ]
    },
    {
     "name": "stderr",
     "output_type": "stream",
     "text": [
      "<>:3: SyntaxWarning: \"is\" with 'int' literal. Did you mean \"==\"?\n",
      "<>:3: SyntaxWarning: \"is\" with 'int' literal. Did you mean \"==\"?\n",
      "C:\\Users\\athar\\AppData\\Local\\Temp\\ipykernel_5176\\3280421850.py:3: SyntaxWarning: \"is\" with 'int' literal. Did you mean \"==\"?\n",
      "  print(f\"{i}\", \"Even\" if odd_even_perceptron.predict(x) is 0 else \"odd\")\n"
     ]
    }
   ],
   "source": [
    "\n",
    "for i in data[\"input\"]:\n",
    "    x = [int(j) for j in i]\n",
    "    print(f\"{i}\", \"Even\" if odd_even_perceptron.predict(x) is 0 else \"odd\")"
   ]
  },
  {
   "cell_type": "code",
   "execution_count": null,
   "id": "7f437e7c",
   "metadata": {},
   "outputs": [],
   "source": []
  }
 ],
 "metadata": {
  "kernelspec": {
   "display_name": ".venv",
   "language": "python",
   "name": "python3"
  },
  "language_info": {
   "codemirror_mode": {
    "name": "ipython",
    "version": 3
   },
   "file_extension": ".py",
   "mimetype": "text/x-python",
   "name": "python",
   "nbconvert_exporter": "python",
   "pygments_lexer": "ipython3",
   "version": "3.12.8"
  }
 },
 "nbformat": 4,
 "nbformat_minor": 5
}
