{
 "cells": [
  {
   "cell_type": "code",
   "execution_count": 5,
   "id": "74bc61d4",
   "metadata": {},
   "outputs": [],
   "source": [
    "import numpy as np"
   ]
  },
  {
   "cell_type": "code",
   "execution_count": 21,
   "id": "662347cd",
   "metadata": {},
   "outputs": [],
   "source": [
    "class NeuralNetwork:\n",
    "    def __init__(self):\n",
    "        # Initialize weights with random values\n",
    "        np.random.seed(1)\n",
    "        self.weights1 = 2 * np.random.random((2, 2))\n",
    "        self.weights2 = 2 * np.random.random((2, 1))\n",
    "        self.bias1 = 2 * np.random.random((1, 2))\n",
    "        self.bias2 = 2 * np.random.random((1, 1))\n",
    "        \n",
    "    def sigmoid(self, x):\n",
    "        return 1 / (1 + np.exp(-x))\n",
    "    \n",
    "    def sigmoid_derivative(self, x):\n",
    "        return x * (1 - x)\n",
    "    \n",
    "    def forward(self, X):\n",
    "        # Forward propagation\n",
    "        self.hidden = self.sigmoid(np.dot(X, self.weights1) + self.bias1)\n",
    "        self.output = self.sigmoid(np.dot(self.hidden, self.weights2) + self.bias2)\n",
    "        return self.output\n",
    "    \n",
    "    def train(self, X, y, epochs=10000, learning_rate=0.1):\n",
    "        for epoch in range(epochs):\n",
    "            # Forward pass\n",
    "            output = self.forward(X)\n",
    "            \n",
    "            # Backward pass (backpropagation)\n",
    "            # Calculate error\n",
    "            error = y - output\n",
    "            \n",
    "            # Calculate gradients\n",
    "            d_output = error * self.sigmoid_derivative(output)\n",
    "            error_hidden = d_output.dot(self.weights2.T)\n",
    "            d_hidden = error_hidden * self.sigmoid_derivative(self.hidden)\n",
    "            \n",
    "            # Update weights and biases\n",
    "            self.weights2 += self.hidden.T.dot(d_output) * learning_rate\n",
    "            self.bias2 += np.sum(d_output, axis=0, keepdims=True) * learning_rate\n",
    "            self.weights1 += X.T.dot(d_hidden) * learning_rate\n",
    "            self.bias1 += np.sum(d_hidden, axis=0, keepdims=True) * learning_rate\n",
    "            \n",
    "            # Print error every 1000 epochs\n",
    "            if epoch % 1000 == 0:\n",
    "                print(f\"Epoch {epoch}, Error: {np.mean(np.abs(error))}\")\n",
    "    \n",
    "    def predict(self, X):\n",
    "        # Make predictions\n",
    "        return np.round(self.forward(X))"
   ]
  },
  {
   "cell_type": "code",
   "execution_count": 22,
   "id": "615fe293",
   "metadata": {},
   "outputs": [],
   "source": [
    "# XOR dataset\n",
    "X = np.array([[0, 0], [0, 1], [1, 0], [1, 1]])\n",
    "y = np.array([[0], [1], [1], [0]])"
   ]
  },
  {
   "cell_type": "code",
   "execution_count": 23,
   "id": "8cacedc4",
   "metadata": {},
   "outputs": [
    {
     "name": "stdout",
     "output_type": "stream",
     "text": [
      "Initial weights (input to hidden):\n",
      "[[8.34044009e-01 1.44064899e+00]\n",
      " [2.28749635e-04 6.04665145e-01]]\n",
      "\n",
      "Initial weights (hidden to output):\n",
      "[[0.29351178]\n",
      " [0.18467719]]\n"
     ]
    }
   ],
   "source": [
    "# Create and train the neural network\n",
    "nn = NeuralNetwork()\n",
    "print(\"Initial weights (input to hidden):\")\n",
    "print(nn.weights1)\n",
    "print(\"\\nInitial weights (hidden to output):\")\n",
    "print(nn.weights2)"
   ]
  },
  {
   "cell_type": "code",
   "execution_count": 24,
   "id": "953ff96b",
   "metadata": {},
   "outputs": [
    {
     "name": "stdout",
     "output_type": "stream",
     "text": [
      "Epoch 0, Error: 0.4993452187285551\n",
      "Epoch 1000, Error: 0.4978736349770362\n",
      "Epoch 2000, Error: 0.47688071833077084\n",
      "Epoch 3000, Error: 0.39457980582099095\n",
      "Epoch 4000, Error: 0.33709835429147716\n",
      "Epoch 5000, Error: 0.31080628665048005\n",
      "Epoch 6000, Error: 0.2973168718180468\n",
      "Epoch 7000, Error: 0.2892706182856308\n",
      "Epoch 8000, Error: 0.28392594199785337\n",
      "Epoch 9000, Error: 0.280102631745601\n"
     ]
    }
   ],
   "source": [
    "# Training the network\n",
    "nn.train(X, y, epochs=10000, learning_rate=0.1)"
   ]
  },
  {
   "cell_type": "code",
   "execution_count": 25,
   "id": "2c3648b0",
   "metadata": {},
   "outputs": [
    {
     "name": "stdout",
     "output_type": "stream",
     "text": [
      "Input: [0 0], Predicted Output: 0.0\n",
      "Input: [0 1], Predicted Output: 1.0\n",
      "Input: [1 0], Predicted Output: 0.0\n",
      "Input: [1 1], Predicted Output: 1.0\n"
     ]
    }
   ],
   "source": [
    "for x in X:\n",
    "    prediction = nn.predict(np.array([x]))\n",
    "    print(f\"Input: {x}, Predicted Output: {prediction[0][0]}\")"
   ]
  },
  {
   "cell_type": "code",
   "execution_count": null,
   "id": "da31e524",
   "metadata": {},
   "outputs": [],
   "source": []
  }
 ],
 "metadata": {
  "kernelspec": {
   "display_name": ".venv",
   "language": "python",
   "name": "python3"
  },
  "language_info": {
   "codemirror_mode": {
    "name": "ipython",
    "version": 3
   },
   "file_extension": ".py",
   "mimetype": "text/x-python",
   "name": "python",
   "nbconvert_exporter": "python",
   "pygments_lexer": "ipython3",
   "version": "3.12.8"
  }
 },
 "nbformat": 4,
 "nbformat_minor": 5
}
